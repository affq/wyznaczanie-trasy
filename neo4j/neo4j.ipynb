{
 "cells": [
  {
   "cell_type": "code",
   "execution_count": 32,
   "metadata": {},
   "outputs": [],
   "source": [
    "from neo4j import GraphDatabase\n",
    "import geopandas as gpd\n",
    "\n",
    "shp = r\"C:\\Users\\adria\\Desktop\\STUDIA_FOLDERY\\wyznaczanie-trasy\\skjz\\direction_calosc_0.shp\"\n",
    "creds = r\"C:\\Users\\adria\\Desktop\\STUDIA_FOLDERY\\wyznaczanie-trasy\\neo4j\\local_credentials.txt\""
   ]
  },
  {
   "cell_type": "code",
   "execution_count": 25,
   "metadata": {},
   "outputs": [],
   "source": [
    "road_classes_speed = {\n",
    "    \"A\": 140,\n",
    "    \"S\": 120,\n",
    "    \"GP\": 100,\n",
    "    \"G\": 80,\n",
    "    \"Z\": 60,\n",
    "    \"L\": 50,\n",
    "    \"D\": 40,\n",
    "    \"I\": 30,\n",
    "}\n",
    "\n",
    "for key in road_classes_speed:\n",
    "    road_classes_speed[key] /= 2"
   ]
  },
  {
   "cell_type": "markdown",
   "metadata": {},
   "source": [
    "# połączenie z lokalną bazą"
   ]
  },
  {
   "cell_type": "code",
   "execution_count": 26,
   "metadata": {},
   "outputs": [],
   "source": [
    "with open (creds, \"r\") as file:\n",
    "    lines = file.readlines()\n",
    "    uri = lines[0].strip()\n",
    "    user = lines[1].strip()\n",
    "    password = lines[2].strip()\n",
    "\n",
    "driver = GraphDatabase.driver(uri, auth=(user, password))"
   ]
  },
  {
   "cell_type": "markdown",
   "metadata": {},
   "source": [
    "# załadowanie nodów i relacji do bazy"
   ]
  },
  {
   "cell_type": "code",
   "execution_count": 27,
   "metadata": {},
   "outputs": [],
   "source": [
    "# gdf = gpd.read_file(shp)\n",
    "\n",
    "# with driver.session() as session:\n",
    "#     for idx,row in gdf.iterrows():\n",
    "#         length = row.geometry.length\n",
    "#         coords = list(row.geometry.coords)\n",
    "#         startPoint = coords[0]\n",
    "#         endPoint = coords[-1]\n",
    "#         x1 = startPoint[0]\n",
    "#         y1 = startPoint[1]\n",
    "#         x2 = endPoint[0]\n",
    "#         y2 = endPoint[1]\n",
    "        \n",
    "#         edge_id = idx\n",
    "#         length = row.geometry.length\n",
    "#         road_class_speed = road_classes_speed[row['klasaDrogi']]\n",
    "#         time = length/(road_class_speed * 1000 / 3600)\n",
    "#         direction = row['kierunek']\n",
    "        \n",
    "#         query = f\"\"\"\n",
    "#         MERGE (n:Node {{id: apoc.util.md5([{int(x1)}, {int(y1)}]), location: point({{x: {x1}, y: {y1}}})}})\n",
    "#         MERGE (m:Node {{id: apoc.util.md5([{int(x2)}, {int(y2)}]), location: point({{x: {x2}, y: {y2}}})}})\n",
    "#         \"\"\"\n",
    "#         if direction == 0:\n",
    "#             query += f\"\"\"\n",
    "#             MERGE (n)-[:CONNECTION {{edge_id: {edge_id}, length: {length}, time: {time}}}]->(m)\n",
    "#             MERGE (m)-[:CONNECTION {{edge_id: {edge_id}, length: {length}, time: {time}}}]->(n)\n",
    "#             RETURN n, m;\n",
    "#             \"\"\"\n",
    "#         session.run(query)"
   ]
  },
  {
   "cell_type": "markdown",
   "metadata": {},
   "source": [
    "# wybranie losowych punktów do testu"
   ]
  },
  {
   "cell_type": "code",
   "execution_count": 28,
   "metadata": {},
   "outputs": [
    {
     "name": "stdout",
     "output_type": "stream",
     "text": [
      "Punkt 1:  475451 570280\n",
      "Punkt 2:  472896 571858\n"
     ]
    }
   ],
   "source": [
    "gdf = gpd.read_file(shp)\n",
    "\n",
    "punkty = []\n",
    "for idx,row in gdf.iterrows():\n",
    "    coords = list(row.geometry.coords)\n",
    "    startPoint = coords[0]\n",
    "    endPoint = coords[-1]\n",
    "    x1 = startPoint[0]\n",
    "    y1 = startPoint[1]\n",
    "    x2 = endPoint[0]\n",
    "    y2 = endPoint[1]\n",
    "    punkty.append([x1,y1])\n",
    "    punkty.append([x2,y2])\n",
    "\n",
    "import random\n",
    "first_random_point = random.choice(punkty)\n",
    "second_random_point = random.choice(punkty)\n",
    "\n",
    "print(\"Punkt 1: \", int(first_random_point[0]), int(first_random_point[1]))\n",
    "print(\"Punkt 2: \", int(second_random_point[0]), int(second_random_point[1]))"
   ]
  },
  {
   "cell_type": "markdown",
   "metadata": {},
   "source": [
    "# załadowanie grafa"
   ]
  },
  {
   "cell_type": "code",
   "execution_count": null,
   "metadata": {},
   "outputs": [],
   "source": [
    "# query = \"\"\" \n",
    "# CALL gds.graph.project(\n",
    "#   'NavigationGraph',              \n",
    "#   'Node',                       \n",
    "#   {\n",
    "#     CONNECTION: {                         \n",
    "#       properties: ['length', 'time']      \n",
    "#     }\n",
    "#   }\n",
    "# )\n",
    "# \"\"\"\n",
    "\n",
    "# with driver.session() as session:\n",
    "#     result = session.run(query)"
   ]
  },
  {
   "cell_type": "code",
   "execution_count": 29,
   "metadata": {},
   "outputs": [],
   "source": [
    "import json\n",
    "def save_geojson(driver, query, file_path):\n",
    "    with driver.session() as session:\n",
    "        result = session.run(query)\n",
    "        geojson = result.single()['geojson']\n",
    "        with open(file_path, 'w') as f:\n",
    "            json.dump(geojson, f, indent=4)"
   ]
  },
  {
   "cell_type": "markdown",
   "metadata": {},
   "source": [
    "# najkrótsza ścieżka"
   ]
  },
  {
   "cell_type": "code",
   "execution_count": 30,
   "metadata": {},
   "outputs": [],
   "source": [
    "cypher_query = \"\"\"\n",
    "MATCH (start:Node {id : apoc.util.md5([471553, 570358])})\n",
    "MATCH (end:Node {id : apoc.util.md5([473004, 574156])})\n",
    "CALL gds.shortestPath.dijkstra.stream('NavigationGraph', {\n",
    "  sourceNode: start,\n",
    "  targetNode: end,\n",
    "  relationshipWeightProperty: 'length' \n",
    "})\n",
    "YIELD path\n",
    "WITH nodes(path) as nodes\n",
    "RETURN {\n",
    "  type: \"FeatureCollection\",\n",
    "  crs: {\n",
    "    type: \"name\",\n",
    "    properties: {\n",
    "      name: \"EPSG:2180\"\n",
    "    }\n",
    "  },\n",
    "  features: [\n",
    "    {\n",
    "      type: \"Feature\",\n",
    "      geometry: {\n",
    "        type: \"LineString\",\n",
    "        coordinates: [node IN nodes | [node.location.x, node.location.y]]\n",
    "      },\n",
    "      properties: {\n",
    "        name: \"Shortest Path\",\n",
    "        totalNodes: size(nodes)\n",
    "      }\n",
    "    }\n",
    "  ]\n",
    "} AS geojson\n",
    "\"\"\"\n",
    "\n",
    "save_geojson(driver, cypher_query, 'shortest_path.geojson')\n"
   ]
  },
  {
   "cell_type": "markdown",
   "metadata": {},
   "source": [
    "# najszybsza ścieżka"
   ]
  },
  {
   "cell_type": "code",
   "execution_count": 31,
   "metadata": {},
   "outputs": [],
   "source": [
    "cypher_query = \"\"\"\n",
    "MATCH (start:Node {id : apoc.util.md5([471553, 570358])})\n",
    "MATCH (end:Node {id : apoc.util.md5([473004, 574156])})\n",
    "CALL gds.shortestPath.dijkstra.stream('NavigationGraph', {\n",
    "  sourceNode: start,\n",
    "  targetNode: end,\n",
    "  relationshipWeightProperty: 'time' \n",
    "})\n",
    "YIELD path\n",
    "WITH nodes(path) as nodes\n",
    "RETURN {\n",
    "  type: \"FeatureCollection\",\n",
    "  crs: {\n",
    "    type: \"name\",\n",
    "    properties: {\n",
    "      name: \"EPSG:2180\"\n",
    "    }\n",
    "  },\n",
    "  features: [\n",
    "    {\n",
    "      type: \"Feature\",\n",
    "      geometry: {\n",
    "        type: \"LineString\",\n",
    "        coordinates: [node IN nodes | [node.location.x, node.location.y]]\n",
    "      },\n",
    "      properties: {\n",
    "        name: \"Shortest Path\",\n",
    "        totalNodes: size(nodes)\n",
    "      }\n",
    "    }\n",
    "  ]\n",
    "} AS geojson\n",
    "\"\"\"\n",
    "\n",
    "save_geojson(driver, cypher_query, 'quickest_path.geojson')"
   ]
  }
 ],
 "metadata": {
  "kernelspec": {
   "display_name": ".venv",
   "language": "python",
   "name": "python3"
  },
  "language_info": {
   "codemirror_mode": {
    "name": "ipython",
    "version": 3
   },
   "file_extension": ".py",
   "mimetype": "text/x-python",
   "name": "python",
   "nbconvert_exporter": "python",
   "pygments_lexer": "ipython3",
   "version": "3.11.8"
  }
 },
 "nbformat": 4,
 "nbformat_minor": 2
}
